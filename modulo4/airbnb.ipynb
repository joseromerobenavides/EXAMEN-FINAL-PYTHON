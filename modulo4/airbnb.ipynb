{
 "metadata": {
  "language_info": {
   "codemirror_mode": {
    "name": "ipython",
    "version": 3
   },
   "file_extension": ".py",
   "mimetype": "text/x-python",
   "name": "python",
   "nbconvert_exporter": "python",
   "pygments_lexer": "ipython3",
   "version": 3
  },
  "orig_nbformat": 2
 },
 "nbformat": 4,
 "nbformat_minor": 2,
 "cells": [
  {
   "cell_type": "code",
   "execution_count": null,
   "metadata": {},
   "outputs": [],
   "source": [
    "class Hotel(object):\n",
    "    \"\"\" Hotel: sus atributos son: nombre, ubicacion, puntaje y precio.\"\"\"\n",
    "\n",
    "    def __init__(self, nombre = '*', ubicacion = '*',\n",
    "                 puntaje = 0, precio = float(\"inf\")):\n",
    "        \"\"\" nombre y ubicacion deben ser cadenas no vacías,\n",
    "            puntaje y precio son números.\n",
    "            Si el precio es 0 se reemplaza por infinito. \"\"\"\n",
    "\n",
    "        if es_cadena_no_vacia (nombre):\n",
    "            self.nombre = nombre\n",
    "        else:\n",
    "            raise TypeError (\"El nombre debe ser una cadena no vacía\")\n",
    "\n",
    "        if es_cadena_no_vacia (ubicacion):\n",
    "            self.ubicacion = ubicacion\n",
    "        else:\n",
    "            raise TypeError (\"La ubicación debe ser una cadena no vacía\")\n",
    "\n",
    "        if es_numero(puntaje):\n",
    "            self.puntaje = puntaje\n",
    "        else:\n",
    "            raise TypeError (\"El puntaje debe ser un número\")\n",
    "\n",
    "        if es_numero(precio):\n",
    "            if precio != 0:\n",
    "                self.precio = precio\n",
    "            else:\n",
    "                self.precio = float(\"inf\")\n",
    "        else:\n",
    "            raise TypeError(\"El precio debe ser un número\")\n",
    "\n",
    "    def __str__(self):\n",
    "        \"\"\" Muestra el hotel según lo requerido. \"\"\"\n",
    "        return self.nombre + \" de \"+ self.ubicacion+ \\\n",
    "                \" - Puntaje: \"+ str(self.puntaje) + \" - Precio: \"+ \\\n",
    "                str(self.precio)+ \" pesos.\""
   ]
  },
  {
   "cell_type": "code",
   "execution_count": null,
   "metadata": {},
   "outputs": [],
   "source": [
    ">>> h1=Hotel(\"Hotel 1* normal\", \"MDQ\", 1, 10)\n",
    ">>> h2=Hotel(\"Hotel 2* normal\", \"MDQ\", 2, 40)\n",
    ">>> h3=Hotel(\"Hotel 3* carisimo\", \"MDQ\", 3, 130)\n",
    ">>> h4=Hotel(\"Hotel vale la pena\" ,\"MDQ\", 4, 130)\n",
    ">>> lista = [ h1, h2, h3, h4 ]\n",
    ">>> lista.sort()\n",
    ">>> for hotel in lista:\n",
    "...     print hotel\n",
    "...\n",
    "Hotel 3* carisimo de MDQ - Puntaje: 3 - Precio: 130 pesos.\n",
    "Hotel 1* normal de MDQ - Puntaje: 1 - Precio: 10 pesos.\n",
    "Hotel 2* normal de MDQ - Puntaje: 2 - Precio: 40 pesos.\n",
    "Hotel vale la pena de MDQ - Puntaje: 4 - Precio: 130 pesos."
   ]
  },
  {
   "cell_type": "code",
   "execution_count": null,
   "metadata": {},
   "outputs": [],
   "source": [
    "def cmpPrecio(self, otro):\n",
    "    \"\"\" Compara dos hoteles por su precio. \"\"\"\n",
    "    return cmp(self.precio, otro.precio)\n",
    "\n",
    "def cmpPuntaje(self, otro):\n",
    "    \"\"\" Compara dos hoteles por su puntaje. \"\"\"\n",
    "    return cmp(self.puntaje, otro.puntaje)\n",
    "\n",
    ">>> h1 = Hotel(\"Hotel Guadalajara\", \"Pinamar\", 2, 55)\n",
    ">>> h2 = Hotel(\"Hostería París\", \"Rosario\", 1, 35)\n",
    ">>> h3 = Hotel(\"Apart-Hotel Estocolmo\", \"Esquel\", 3, 105)\n",
    ">>> h4 = Hotel(\"Posada El Cairo\", \"Salta\", 2.5, 15)\n",
    ">>> lista = [ h1, h2, h3, h4 ]\n",
    ">>> lista.sort(cmp=Hotel.cmpPrecio)\n",
    ">>> for hotel in lista:\n",
    "...     print hotel\n",
    "...\n",
    "Posada El Cairo de Salta - Puntaje: 2.5 - Precio: 15 pesos.\n",
    "Hostería París de Rosario - Puntaje: 1 - Precio: 35 pesos.\n",
    "Hotel Guadalajara de Pinamar - Puntaje: 2 - Precio: 55 pesos.\n",
    "Apart-Hotel Estocolmo de Esquel - Puntaje: 3 - Precio: 105 pesos."
   ]
  }
 ]
}
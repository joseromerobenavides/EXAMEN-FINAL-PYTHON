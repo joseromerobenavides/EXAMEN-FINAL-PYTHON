{
 "metadata": {
  "language_info": {
   "codemirror_mode": {
    "name": "ipython",
    "version": 3
   },
   "file_extension": ".py",
   "mimetype": "text/x-python",
   "name": "python",
   "nbconvert_exporter": "python",
   "pygments_lexer": "ipython3",
   "version": 3
  },
  "orig_nbformat": 2
 },
 "nbformat": 4,
 "nbformat_minor": 2,
 "cells": [
  {
   "cell_type": "code",
   "execution_count": null,
   "metadata": {},
   "outputs": [],
   "source": [
    "n = int(input('Introduce un número entero entre 1 y 10: '))\n",
    "file_name = 'tabla-' + str(n) + '.txt'\n",
    "f = open(file_name, 'w')\n",
    "for i in range(1, 11):\n",
    "    f.write(str(n) + ' x ' + str(i) + ' = ' + str(n * i) + '\\n')\n",
    "f.close()"
   ]
  }
 ]
}
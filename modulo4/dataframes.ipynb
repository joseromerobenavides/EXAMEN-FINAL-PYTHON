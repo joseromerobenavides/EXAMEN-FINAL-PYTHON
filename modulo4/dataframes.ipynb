{
 "metadata": {
  "language_info": {
   "codemirror_mode": {
    "name": "ipython",
    "version": 3
   },
   "file_extension": ".py",
   "mimetype": "text/x-python",
   "name": "python",
   "nbconvert_exporter": "python",
   "pygments_lexer": "ipython3",
   "version": 3
  },
  "orig_nbformat": 2
 },
 "nbformat": 4,
 "nbformat_minor": 2,
 "cells": [
  {
   "cell_type": "code",
   "execution_count": null,
   "metadata": {},
   "outputs": [],
   "source": [
    "import pandas as pd\n",
    "import numpy as np\n",
    "\n",
    "nombres = ['Juan', 'Laura', 'Pepe']\n",
    "edades = [42, 40, 37]\n",
    "\n",
    "df['Nombre'] = nombres\n",
    "df['Edad'] = edades\n",
    "\n",
    "nueva_fila = { 'Nombre': 'Paco', 'Edad': 29} # creamos un diccionario\n",
    "df = df.append(nueva_fila, ignore_index=True)\n",
    "\n",
    "nueva_fila = pd.Series(['Ana', 33], index=df.columns) # creamos un objeto Seris\n",
    "df = df.append(nueva_fila, ignore_index=True)\n",
    "\n",
    "print(df)\n",
    "\n",
    "array = np.array([\n",
    "    [10, 11, 12, 13],\n",
    "    [20, 21, 22, 23],\n",
    "    [30, 31, 32, 33]\n",
    "])\n",
    "columnas = ['C1', 'C2', 'C3', 'C4'] # esta lista también podría ser un array de NumPy\n",
    "\n",
    "df = pd.DataFrame(array, columns = columnas)\n",
    "\n",
    "print(df)\n",
    "\n",
    "datos = [\n",
    "    {'Nombre': 'Juan', 'Edad': 42, 'Departamento': 'Comunicación'},\n",
    "    {'Nombre': 'Laura', 'Edad': 44, 'Departamento': 'Administración'},\n",
    "    {'Nombre': 'Pepe', 'Edad': 37, 'Departamento': 'Ventas'}\n",
    "]\n",
    "\n",
    "df = pd.DataFrame(datos)\n",
    "\n",
    "print(df)\n",
    "\n",
    "\n",
    "datos = {\n",
    "    'Nombre' : ['Juan', 'Laura', 'Pepe'],\n",
    "    'Edad': [42, 40, 37],\n",
    "    'Departamento': ['Comunicación', 'Administración', 'Ventas']\n",
    "}\n",
    "\n",
    "df = pd.DataFrame(datos)\n",
    "\n",
    "print(df)"
   ]
  }
 ]
}
{
 "metadata": {
  "language_info": {
   "codemirror_mode": {
    "name": "ipython",
    "version": 3
   },
   "file_extension": ".py",
   "mimetype": "text/x-python",
   "name": "python",
   "nbconvert_exporter": "python",
   "pygments_lexer": "ipython3",
   "version": 3
  },
  "orig_nbformat": 2
 },
 "nbformat": 4,
 "nbformat_minor": 2,
 "cells": [
  {
   "cell_type": "code",
   "execution_count": null,
   "metadata": {},
   "outputs": [],
   "source": [
    "#!/usr/bin/env python\n",
    "import sys,string\n",
    "nomfp=\"/etc/passwd\"\n",
    "fp=open(nomfp,\"r\")\n",
    "usuarios={}\n",
    "    while True:\n",
    "        linea=fp.readline()\n",
    "    if not linea:\n",
    "        break\n",
    "campos=string.split(linea,\":\")\n",
    "usuarios[campos[0]]=campos[4]\n",
    "fp.close()\n",
    "        while True:\n",
    "    sys.stdout.write(\"¿Usuario?: \")\n",
    "linea=sys.stdin.readline()\n",
    "        if not linea:\n",
    "            break\n",
    "login=string.strip(linea)\n",
    "    if usuarios.has_key(login):\n",
    "        print \" \"+usuarios[login]\n",
    "    else:\n",
    "        print \" Usuario desconocido\"\n",
    "print"
   ]
  }
 ]
}
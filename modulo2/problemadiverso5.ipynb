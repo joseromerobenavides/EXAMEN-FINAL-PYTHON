{
 "metadata": {
  "language_info": {
   "codemirror_mode": {
    "name": "ipython",
    "version": 3
   },
   "file_extension": ".py",
   "mimetype": "text/x-python",
   "name": "python",
   "nbconvert_exporter": "python",
   "pygments_lexer": "ipython3",
   "version": "3.8.5"
  },
  "orig_nbformat": 2,
  "kernelspec": {
   "name": "python385jvsc74a57bd0cb4ba80c77914fefcae4b6ab97441bcca38110318b73796501620219806422b4",
   "display_name": "Python 3.8.5 64-bit ('base': conda)"
  }
 },
 "nbformat": 4,
 "nbformat_minor": 2,
 "cells": [
  {
   "cell_type": "code",
   "execution_count": 1,
   "metadata": {},
   "outputs": [],
   "source": [
    "agenda = {}\n",
    "while True:\n",
    "    print(\"\\n\")\n",
    "    print(\"1. Añadir/modificar\")\n",
    "    print(\"2. Buscar\")\n",
    "    print(\"3. Borrar\")\n",
    "    print(\"4. Listar\")\n",
    "    print(\"5. Salir\")\n",
    "    \n",
    "    opcion = int(input(\"Dime opción:\"))\n",
    "    if opcion == 1:\n",
    "        nombre = input(\"Nombre del contacto:\")    \n",
    "        if nombre in agenda:\n",
    "            print(\"%s ya existe su número de teléfono es %s\" % (nombre,agenda[nombre]))\n",
    "            opcion = input(\"Pulsa 's' si quieres modificarlo!!!. Otra tecla para continuar.\")\n",
    "            if opcion == \"s\":\n",
    "                numero = input(\"Dame el nuevo número de teléfono:\")\n",
    "                agenda[nombre]=numero\n",
    "        else:\n",
    "            numero = input(\"Dame el número de teléfono:\")\n",
    "            agenda[nombre]=numero\n",
    "    elif opcion == 2:\n",
    "        cadena = input(\"Nombre del contacto a buscar:\")    \n",
    "        for nombre, numero in agenda.items():\n",
    "            if nombre.startswith(cadena):\n",
    "                print(\"El número de teléfono de %s es el %s\" % (nombre,agenda[nombre]))\n",
    "    elif opcion == 3:\n",
    "        nombre = input(\"Nombre del contacto para borrar:\")    \n",
    "        if nombre in agenda:\n",
    "            opcion = input(\"Pulsa 's' si quieres borrarlo!!!. Otra tecla para continuar.\")\n",
    "            if opcion == \"s\":\n",
    "                del agenda[nombre]\n",
    "        else:\n",
    "            print(\"No existe el contacto\")\n",
    "    elif opcion == 4:\n",
    "        for nombre, numero in agenda.items():\n",
    "            print(nombre,\"->\",numero)\n",
    "    elif opcion == 5:\n",
    "        break\n",
    "    else:\n",
    "        print(\"Opción incorrecta\")"
   ]
  }
 ]
}
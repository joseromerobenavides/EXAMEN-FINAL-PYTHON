{
 "metadata": {
  "language_info": {
   "codemirror_mode": {
    "name": "ipython",
    "version": 3
   },
   "file_extension": ".py",
   "mimetype": "text/x-python",
   "name": "python",
   "nbconvert_exporter": "python",
   "pygments_lexer": "ipython3",
   "version": 3
  },
  "orig_nbformat": 2
 },
 "nbformat": 4,
 "nbformat_minor": 2,
 "cells": [
  {
   "cell_type": "code",
   "execution_count": null,
   "metadata": {},
   "outputs": [],
   "source": [
    "from __future__ import division\n",
    " \n",
    "def status(nota):\n",
    "    if nota >=0 and nota < 4: return -1\n",
    "    elif nota >= 4 and nota <=7: return 0\n",
    "    elif nota > 7 and nota <= 10: return 1\n",
    "    else: return None\n",
    " \n",
    "    # Promedio general\n",
    "    print #\"\\nPromedio general: {0}\".format(sum(notas)/len(notas))\n",
    " "
   ]
  }
 ]
}
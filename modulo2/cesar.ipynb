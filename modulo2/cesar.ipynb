{
 "metadata": {
  "language_info": {
   "codemirror_mode": {
    "name": "ipython",
    "version": 3
   },
   "file_extension": ".py",
   "mimetype": "text/x-python",
   "name": "python",
   "nbconvert_exporter": "python",
   "pygments_lexer": "ipython3",
   "version": 3
  },
  "orig_nbformat": 2
 },
 "nbformat": 4,
 "nbformat_minor": 2,
 "cells": [
  {
   "cell_type": "code",
   "execution_count": null,
   "metadata": {},
   "outputs": [],
   "source": [
    "texto=input (\"tu texto:  \")\n",
    "\n",
    "if texto==texto.upper(): \n",
    "    abc=\"ABCDEFGHIJKLMNÑOPQRSTUVWXYZ\"\n",
    "else:\n",
    "    abc=\"abcdefghijklmnñopqrstuvwxyz\"\n",
    "k=int (input (\"Valor de desplazamiento: \"))\n",
    "\n",
    "cifrado=\"\"\n",
    "for c in texto:\n",
    "    if c in abc:\n",
    "        cifrado += abc[(abc.index(c)+k%(len(abc)))]\n",
    "    else:\n",
    "        cifrado+=c \n",
    "print(\"texto cifrado: \",cifrado)"
   ]
  }
 ]
}
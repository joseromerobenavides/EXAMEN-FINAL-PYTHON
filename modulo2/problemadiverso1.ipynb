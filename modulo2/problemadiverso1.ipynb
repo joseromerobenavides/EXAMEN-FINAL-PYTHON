{
 "metadata": {
  "language_info": {
   "codemirror_mode": {
    "name": "ipython",
    "version": 3
   },
   "file_extension": ".py",
   "mimetype": "text/x-python",
   "name": "python",
   "nbconvert_exporter": "python",
   "pygments_lexer": "ipython3",
   "version": 3
  },
  "orig_nbformat": 2
 },
 "nbformat": 4,
 "nbformat_minor": 2,
 "cells": [
  {
   "cell_type": "code",
   "execution_count": null,
   "metadata": {},
   "outputs": [],
   "source": [
    "def lista_alumnos(num_alumnos):\n",
    "    alumnos=[]\n",
    "    for n in range(num_alumnos):\n",
    "        alumno = {}\n",
    "        \n",
    "        alumno['Nombre'] = input('Ingrese el nombre completo')\n",
    "        alumno['Nota1'] = float(input('Ingrese nota 1'))\n",
    "        alumno['Nota2'] = float(input('Ingrese nota 2'))\n",
    "        alumno['Nota3'] = float(input('Ingrese nota 3'))\n",
    "        \n",
    "        alumnos.append(alumno)\n",
    "    return alumnos\n",
    "num_alumnos = int(input('Introduce la cantidad de alumnos: '))"
   ]
  }
 ]
}
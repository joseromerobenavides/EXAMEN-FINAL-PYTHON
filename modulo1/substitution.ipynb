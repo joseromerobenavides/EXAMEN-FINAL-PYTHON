{
 "metadata": {
  "language_info": {
   "codemirror_mode": {
    "name": "ipython",
    "version": 3
   },
   "file_extension": ".py",
   "mimetype": "text/x-python",
   "name": "python",
   "nbconvert_exporter": "python",
   "pygments_lexer": "ipython3",
   "version": 3
  },
  "orig_nbformat": 2
 },
 "nbformat": 4,
 "nbformat_minor": 2,
 "cells": [
  {
   "cell_type": "code",
   "execution_count": null,
   "metadata": {},
   "outputs": [],
   "source": [
    "def codificar(mensaje, rotaciones):\n",
    "    #Nota: también se puede importar a string y usar ascii_letters y ascii_uppercase\n",
    "    alfabeto = \"abcdefghijklmnopqrstuvwxyz\"\n",
    "    alfabeto_mayusculas = \"ABCDEFGHIJKLMNOPQRSTUVWXYZ\"\n",
    "    longitud_alfabeto = len(alfabeto)\n",
    "    codificado = \"\"\n",
    "    for letra in mensaje:\n",
    "        if not letra.isalpha() or letra.lower() == 'ñ':\n",
    "            codificado += letra\n",
    "            continue\n",
    "        valor_letra = ord(letra)\n",
    "        # Suponemos que es minúscula, así que esto comienza en 97(a) y se usará el alfabeto en minúsculas\n",
    "        alfabeto_a_usar = alfabeto\n",
    "        limite = 97  # Pero si es mayúscula, comienza en 65(A) y se usa en mayúsculas\n",
    "        if letra.isupper():\n",
    "            limite = 65\n",
    "            alfabeto_a_usar = alfabeto_mayusculas\n",
    "\n",
    "        # Rotamos la letra\n",
    "        posicion = (valor_letra - limite + rotaciones) % longitud_alfabeto\n",
    "\n",
    "        # Convertimos el entero resultante a letra y lo concatenamos\n",
    "        codificado += alfabeto_a_usar[posicion]\n",
    "    return codificado"
   ]
  }
 ]
}
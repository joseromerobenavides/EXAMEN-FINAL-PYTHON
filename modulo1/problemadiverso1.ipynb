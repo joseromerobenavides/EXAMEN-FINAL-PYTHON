{
 "metadata": {
  "language_info": {
   "codemirror_mode": {
    "name": "ipython",
    "version": 3
   },
   "file_extension": ".py",
   "mimetype": "text/x-python",
   "name": "python",
   "nbconvert_exporter": "python",
   "pygments_lexer": "ipython3",
   "version": 3
  },
  "orig_nbformat": 2
 },
 "nbformat": 4,
 "nbformat_minor": 2,
 "cells": [
  {
   "cell_type": "code",
   "execution_count": null,
   "metadata": {},
   "outputs": [],
   "source": [
    "m = float(input('Ingrese cantidad de dinero depositada en la cuenta de ahorros:' )) \n",
    "i = 0.04\n",
    "\n",
    "for a in range(1,4):\n",
    "    m = m * (1+i)\n",
    "    print(f\"El monto al final del año {a} es :{round(m,2)}\")"
   ]
  }
 ]
}
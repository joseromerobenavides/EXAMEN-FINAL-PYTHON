{
 "metadata": {
  "language_info": {
   "codemirror_mode": {
    "name": "ipython",
    "version": 3
   },
   "file_extension": ".py",
   "mimetype": "text/x-python",
   "name": "python",
   "nbconvert_exporter": "python",
   "pygments_lexer": "ipython3",
   "version": 3
  },
  "orig_nbformat": 2
 },
 "nbformat": 4,
 "nbformat_minor": 2,
 "cells": [
  {
   "cell_type": "code",
   "execution_count": null,
   "metadata": {},
   "outputs": [],
   "source": [
    "from math import sqrt\n",
    "\n",
    "a= int(input('Ingrese un valor diferente a 0: '))\n",
    "b= int(input('Ingrese el valor de b: '))\n",
    "c= int(input('Ingrese el valor de c: '))\n",
    "if a != 0:\n",
    "    # calculo discriminante\n",
    "    d= (b**2 - 4*a*c)\n",
    "    \n",
    "    if d<0: \n",
    "        print('Ecuación no presenta solución real')\n",
    "    else: \n",
    "        x1= (-b+ sqrt(d))/(2*a)\n",
    "        x2= (-b- sqrt(d))/(2*a)\n",
    "        print(f'Los valores son {x1} y {x2}')\n",
    "    \n",
    "else:     \n",
    "    print('El valor de a debe ser distinto a cero')"
   ]
  }
 ]
}
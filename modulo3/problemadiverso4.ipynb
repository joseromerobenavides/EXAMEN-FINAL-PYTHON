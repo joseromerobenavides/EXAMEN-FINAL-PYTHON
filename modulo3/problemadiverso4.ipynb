{
 "metadata": {
  "language_info": {
   "codemirror_mode": {
    "name": "ipython",
    "version": 3
   },
   "file_extension": ".py",
   "mimetype": "text/x-python",
   "name": "python",
   "nbconvert_exporter": "python",
   "pygments_lexer": "ipython3",
   "version": 3
  },
  "orig_nbformat": 2
 },
 "nbformat": 4,
 "nbformat_minor": 2,
 "cells": [
  {
   "cell_type": "code",
   "execution_count": null,
   "metadata": {},
   "outputs": [],
   "source": [
    "print(\"Ingrese las notas\")\n",
    "\n",
    "nota1=float(input(\"Ingrese la 1era nota \"))\n",
    "\n",
    "nota2=float(input(\"Ingrese la 2da nota \"))\n",
    "\n",
    "nota3=float(input(\"Ingrese la 3era nota \"))\n",
    "\n",
    "promedio = (nota1 + nota2 + nota3)/3\n",
    "\n",
    "notaFinal = print(\"La nota final es de\", promedio)"
   ]
  }
 ]
}
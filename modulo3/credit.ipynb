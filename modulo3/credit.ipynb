{
 "metadata": {
  "language_info": {
   "codemirror_mode": {
    "name": "ipython",
    "version": 3
   },
   "file_extension": ".py",
   "mimetype": "text/x-python",
   "name": "python",
   "nbconvert_exporter": "python",
   "pygments_lexer": "ipython3",
   "version": 3
  },
  "orig_nbformat": 2
 },
 "nbformat": 4,
 "nbformat_minor": 2,
 "cells": [
  {
   "cell_type": "code",
   "execution_count": null,
   "metadata": {},
   "outputs": [],
   "source": [
    "def validate(n):\n",
    "    if len(str(n)) > 16:\n",
    "        return False\n",
    "    else:\n",
    "        if len(str(n)) % 2 == 0:\n",
    "            for i in str(n[0::2]):\n",
    "                digit = int(str(n[i])) * 2\n",
    "    while digit > 9:\n",
    "        digit = sum(map(int, str(digit)))\n",
    "        dig_sum = sum(map(int, str(n)))\n",
    "        return True if dig_sum % 10 == 0 else False\n",
    "        elif len(str(n)) % 2 != 0:\n",
    "    for i in str(n[1::2]):\n",
    "        digit = int(str(n[i])) * 2\n",
    "    while digit > 9:\n",
    "        digit = sum(map(int, str(digit)))\n",
    "        dig_sum = sum(map(int, str(n)))\n",
    "        return True if dig_sum % 10 == 0 else False"
   ]
  }
 ]
}
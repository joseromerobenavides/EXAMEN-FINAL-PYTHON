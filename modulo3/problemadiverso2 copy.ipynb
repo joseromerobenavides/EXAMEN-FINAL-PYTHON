{
 "metadata": {
  "language_info": {
   "codemirror_mode": {
    "name": "ipython",
    "version": 3
   },
   "file_extension": ".py",
   "mimetype": "text/x-python",
   "name": "python",
   "nbconvert_exporter": "python",
   "pygments_lexer": "ipython3",
   "version": 3
  },
  "orig_nbformat": 2
 },
 "nbformat": 4,
 "nbformat_minor": 2,
 "cells": [
  {
   "cell_type": "code",
   "execution_count": null,
   "metadata": {},
   "outputs": [],
   "source": [
    "def fun(nota):\n",
    "    if nota > 7:\n",
    "        return \"Promociona\"\n",
    "    else:\n",
    "        if nota < 4:\n",
    "            return \"Aplazado\"\n",
    "        else:\n",
    "            if 4 <= nota <= 7:\n",
    "                return \"Aprobado\""
   ]
  }
 ]
}
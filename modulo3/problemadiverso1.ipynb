{
 "metadata": {
  "language_info": {
   "codemirror_mode": {
    "name": "ipython",
    "version": 3
   },
   "file_extension": ".py",
   "mimetype": "text/x-python",
   "name": "python",
   "nbconvert_exporter": "python",
   "pygments_lexer": "ipython3",
   "version": 3
  },
  "orig_nbformat": 2
 },
 "nbformat": 4,
 "nbformat_minor": 2,
 "cells": [
  {
   "cell_type": "code",
   "execution_count": null,
   "metadata": {},
   "outputs": [],
   "source": [
    "alumnos = {}\n",
    "cantidad = int(input(\"Introduce la cantidad de alumnos que vamos a guradar:\"))\n",
    "for num in range(cantidad):\n",
    "    alumno = input(\"Nombre del alumno:\")\n",
    "    while alumno in alumnos:\n",
    "        print(\"Alumno ya existe.\")\n",
    "        alumno = input(\"Nombre del alumno:\")\n",
    "    notas=[]\n",
    "    nota = int(input(\"Dame una nota del alumno (negativo para terminar):\"))\n",
    "    while nota > 0:\n",
    "        notas.append(nota)\n",
    "        nota = int(input(\"Dame una nota del alumno (negativo para terminar):\"))\n",
    "    alumnos[alumno] = notas.copy()\n",
    "\n",
    "for alumno, notas in alumnos.items():\n",
    "    print(\"%s ha sacado de nota media %f\" % (alumno,sum(notas)/len(notas)))"
   ]
  }
 ]
}